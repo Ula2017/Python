{
 "cells": [
  {
   "cell_type": "markdown",
   "metadata": {
    "collapsed": true
   },
   "source": [
    "Wyszukiwanie wszystkich wprowadzonych sentencji opiera się na pobraniu kilkudziesięciu adresów stron za pomocą biblioteki google.\n",
    "Fuzzywuzzy sprawdza występowanie ciągu znaków podobnych do wprowadzonej sentencji na każdej stronie i na jej podstawie oblicza czy jest to prawda czy fałsz. \n",
    "Dodatkowo zrobione jest wyszukiwanie aktora oraz filmu za pomocą parsowania  strony html filmweb. Na jej podstawie dokładnie można powiedzieć, czy dany aktor/aktorka lub film istnieje.\n",
    "Dodatkowo zrobiony jest Wykrywacz kłamstw, który na podstawie pytań zadanych użytkownikowi stwierdza w jakim stopni jest on kłamcą. Na podstawie wskaźnika podaje informacje czy wprowadzone słowa mogą być prawdą czy kłamstwem."
   ]
  },
  {
   "cell_type": "markdown",
   "metadata": {},
   "source": [
    "Najpierw komendą: pip install git+https://github.com/AGHPythonCourse2017/zad3-Ula2017.git instalujemy pakiet, potem dokładamy potrzebne biblioteki ( google, fuzzywuzzy)"
   ]
  },
  {
   "cell_type": "code",
   "execution_count": 1,
   "metadata": {
    "collapsed": true
   },
   "outputs": [],
   "source": [
    "!pip install google"
   ]
  },
  {
   "cell_type": "code",
   "execution_count": 2,
   "metadata": {
    "collapsed": true
   },
   "outputs": [],
   "source": [
    "!pip install git+https://github.com/seatgeek/fuzzywuzzy.git"
   ]
  },
  {
   "cell_type": "code",
   "execution_count": 1,
   "metadata": {},
   "outputs": [
    {
     "name": "stderr",
     "output_type": "stream",
     "text": [
      "/home/urszulasobon/anaconda3/lib/python3.6/site-packages/fuzzywuzzy/fuzz.py:35: UserWarning: Using slow pure-python SequenceMatcher. Install python-Levenshtein to remove this warning\n",
      "  warnings.warn('Using slow pure-python SequenceMatcher. Install python-Levenshtein to remove this warning')\n"
     ]
    }
   ],
   "source": [
    "from jupyter import JAnalyzer"
   ]
  },
  {
   "cell_type": "code",
   "execution_count": null,
   "metadata": {
    "scrolled": true
   },
   "outputs": [
    {
     "name": "stdout",
     "output_type": "stream",
     "text": [
      "Answer the questions carefully and honestly\n",
      "\n",
      "Enter your full firstname:\n",
      "\n",
      "\n",
      "Ula\n",
      "Enter your birthdate(format dd-mm-yyyy):\n",
      "\n",
      "\n"
     ]
    }
   ],
   "source": [
    "JAnalyzer.lie_detector()"
   ]
  },
  {
   "cell_type": "code",
   "execution_count": 3,
   "metadata": {},
   "outputs": [
    {
     "name": "stdout",
     "output_type": "stream",
     "text": [
      "You are using filmweb analyzer\n",
      "Film Titanic probably exists according filmweb\n"
     ]
    }
   ],
   "source": [
    "JAnalyzer.film_analyzer(\"film\",\"Titanic\")"
   ]
  },
  {
   "cell_type": "code",
   "execution_count": 4,
   "metadata": {},
   "outputs": [
    {
     "name": "stdout",
     "output_type": "stream",
     "text": [
      "error\n",
      "SEARCHINFO: Problem with google search\n"
     ]
    }
   ],
   "source": [
    "JAnalyzer.anything_analyzer(\"something\")"
   ]
  },
  {
   "cell_type": "code",
   "execution_count": 5,
   "metadata": {},
   "outputs": [
    {
     "name": "stdout",
     "output_type": "stream",
     "text": [
      "You are using filmweb analyzer\n",
      "Film Toy Story probably exists according filmweb\n",
      "You are using filmweb analyzer\n",
      "Film toy story 5  probably doen't exist according filmweb\n",
      "You are using filmweb analyzer\n",
      "Actor/Actress named Morgan Freeman  probably exists according filmweb\n",
      "error\n",
      "SEARCHINFO: Problem with google search\n"
     ]
    }
   ],
   "source": [
    "JAnalyzer.main()"
   ]
  },
  {
   "cell_type": "code",
   "execution_count": null,
   "metadata": {
    "collapsed": true
   },
   "outputs": [],
   "source": [
    ""
   ]
  }
 ],
 "metadata": {
  "kernelspec": {
   "display_name": "Python 3",
   "language": "python",
   "name": "python3"
  },
  "language_info": {
   "codemirror_mode": {
    "name": "ipython",
    "version": 3.0
   },
   "file_extension": ".py",
   "mimetype": "text/x-python",
   "name": "python",
   "nbconvert_exporter": "python",
   "pygments_lexer": "ipython3",
   "version": "3.6.1"
  }
 },
 "nbformat": 4,
 "nbformat_minor": 0
}